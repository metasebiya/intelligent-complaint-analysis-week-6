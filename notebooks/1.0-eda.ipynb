{
 "cells": [
  {
   "metadata": {},
   "cell_type": "markdown",
   "source": [
    "## Intelligent Complaint Analysis for Financial Services\n",
    "### Building a RAG-Powered Chatbot to Turn Customer Feedback into Actionable Insights"
   ],
   "id": "a4be493b5f561113"
  },
  {
   "metadata": {},
   "cell_type": "markdown",
   "source": "## Import modules and libraries",
   "id": "70a69c9c2f19add2"
  },
  {
   "metadata": {},
   "cell_type": "code",
   "source": [
    "#Import Data\n",
    "import sys\n",
    "import os\n",
    "notebook_dir = os.getcwd()\n",
    "project_dir = os.path.abspath(os.path.join(notebook_dir, '..'))\n",
    "src_dir = os.path.join(project_dir, 'src')  # Path to scripts\\n\",\n",
    "sys.path.append(src_dir)"
   ],
   "id": "87526c74fe14b750",
   "outputs": [],
   "execution_count": null
  },
  {
   "metadata": {},
   "cell_type": "code",
   "source": [
    "import pandas as pd\n",
    "from data_loader import DataLoader\n",
    "from data_eda import Dataprocessor\n",
    "from embed_index import ComplaintEmbedder"
   ],
   "id": "75e2aa8fff43977d",
   "outputs": [],
   "execution_count": null
  },
  {
   "metadata": {},
   "cell_type": "markdown",
   "source": "### Loading Data",
   "id": "9a81bcdf47c2c5a1"
  },
  {
   "metadata": {},
   "cell_type": "code",
   "source": [
    "df_path = \"../data/raw/complaints.csv\"\n",
    "data = DataLoader().load_data(df_path)"
   ],
   "id": "fd165fee9555ddda",
   "outputs": [],
   "execution_count": null
  },
  {
   "metadata": {},
   "cell_type": "markdown",
   "source": "## Processing Data",
   "id": "8b9dbd8d6d3801c1"
  },
  {
   "metadata": {},
   "cell_type": "code",
   "source": "processor = Dataprocessor(data)",
   "id": "6af1314247a730b5",
   "outputs": [],
   "execution_count": null
  },
  {
   "metadata": {},
   "cell_type": "code",
   "source": "processor.standardize_columns()\n",
   "id": "df6285ed29f1a42a",
   "outputs": [],
   "execution_count": null
  },
  {
   "metadata": {},
   "cell_type": "code",
   "source": "processor.convert_types()\n",
   "id": "d6f2405996886005",
   "outputs": [],
   "execution_count": null
  },
  {
   "metadata": {},
   "cell_type": "code",
   "source": "processor.detect_bnpl_from_narrative()\n",
   "id": "2f38e5cf0ce578af",
   "outputs": [],
   "execution_count": null
  },
  {
   "metadata": {},
   "cell_type": "code",
   "source": "processor.overview_data(\"Raw Complaint Dataset Overview\")\n",
   "id": "ffaf80a562057fa2",
   "outputs": [],
   "execution_count": null
  },
  {
   "metadata": {},
   "cell_type": "code",
   "source": "processor.filter_and_clean_complaints()\n",
   "id": "f771096cce01ea23",
   "outputs": [],
   "execution_count": null
  },
  {
   "metadata": {},
   "cell_type": "code",
   "source": "processor.overview_data(\"Filtered Dataset Overview\")",
   "id": "e3da3d3a756cb0da",
   "outputs": [],
   "execution_count": null
  },
  {
   "metadata": {},
   "cell_type": "markdown",
   "source": "### Chunking and Embedding",
   "id": "fefd3a4fb9950c77"
  },
  {
   "metadata": {},
   "cell_type": "code",
   "source": [
    "# Step 1: Load cleaned complaints\n",
    "df = pd.read_csv(\"../data/processed/filtered_complaints.csv\")\n",
    "\n",
    "# Step 2: Initialize embedder\n",
    "embedder = ComplaintEmbedder(\n",
    "    model_name=\"sentence-transformers/all-MiniLM-L6-v2\",\n",
    "    persist_directory=\"../vector_store/chroma_index\"\n",
    ")\n",
    "\n",
    "# Step 3: Chunk complaint narratives\n",
    "print(\"🔍 Chunking complaints...\")\n",
    "documents = embedder.chunk_text(df)\n",
    "\n",
    "# Step 4: Generate embeddings & persist in ChromaDB\n",
    "print(\"📦 Embedding and storing in ChromaDB...\")\n",
    "embedder.build_chroma_index(documents)\n",
    "\n",
    "print(\"✅ Embedding and indexing completed successfully!\")"
   ],
   "id": "8df45c4a245738ed",
   "outputs": [],
   "execution_count": null
  }
 ],
 "metadata": {},
 "nbformat": 4,
 "nbformat_minor": 5
}
